{
 "cells": [
  {
   "cell_type": "code",
   "execution_count": 1,
   "metadata": {},
   "outputs": [],
   "source": [
    "class BinaryHeap:\n",
    "    \n",
    "    def __init__(self):  \n",
    "        \n",
    "        self.heapList = [0]\n",
    "        self.currentSize = 0"
   ]
  },
  {
   "cell_type": "code",
   "execution_count": null,
   "metadata": {},
   "outputs": [],
   "source": [
    "def percup(self,i):\n",
    "    \n",
    "    while i // 2 > 0:\n",
    "        if self.heapList[i] < self.heapList[i//2]:\n",
    "            \n",
    "            temp = self.heapList[i//2]\n",
    "            self.heapList[i//2]= self.heapList[i]\n",
    "            self.heapList[i]=temp\n",
    "    "
   ]
  }
 ],
 "metadata": {
  "kernelspec": {
   "display_name": "Python 3",
   "language": "python",
   "name": "python3"
  },
  "language_info": {
   "codemirror_mode": {
    "name": "ipython",
    "version": 3
   },
   "file_extension": ".py",
   "mimetype": "text/x-python",
   "name": "python",
   "nbconvert_exporter": "python",
   "pygments_lexer": "ipython3",
   "version": "3.8.5"
  }
 },
 "nbformat": 4,
 "nbformat_minor": 4
}
