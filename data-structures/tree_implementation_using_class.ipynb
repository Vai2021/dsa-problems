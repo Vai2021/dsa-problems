{
 "cells": [
  {
   "cell_type": "code",
   "execution_count": 20,
   "metadata": {},
   "outputs": [],
   "source": [
    "class Binarytree(object):\n",
    "    \n",
    "    def __init__(self,rootOjct):  #set the key\n",
    "        self.key = rootOjct\n",
    "        self.leftChild = None\n",
    "        self.rightChild = None\n",
    "        \n",
    "        \n",
    "    def insertLeft(self,newNode):      # similar methods to insrt left and right nodes\n",
    "        \n",
    "        if self.leftChild == None:\n",
    "            self.leftChild = Binarytree(newNode)\n",
    "            \n",
    "        else:\n",
    "            t = Binarytree(newNode)\n",
    "            t.leftChild = self.leftChild\n",
    "            self.leftChild = t\n",
    "            \n",
    "            \n",
    "    def insertRight(self,newNode):\n",
    "        \n",
    "        \n",
    "        if self.rightChild == None:\n",
    "            self.rightChild = Binarytree(newNode)\n",
    "            \n",
    "        else:\n",
    "            \n",
    "            t= Binarytree(self,newNode)\n",
    "            t.rightChild = self.rightChild\n",
    "            self.rightChild = t\n",
    "            \n",
    "            \n",
    "            \n",
    "    def getLeftchild(self):\n",
    "        return self.leftChild\n",
    "    \n",
    "    def getRightchild(self):\n",
    "        return self.rightChild\n",
    "    \n",
    "    def setrootval(self,obj):\n",
    "        self.key = obj\n",
    "        \n",
    "    def getrootval(self):\n",
    "        return self.key\n",
    "        "
   ]
  },
  {
   "cell_type": "code",
   "execution_count": 21,
   "metadata": {},
   "outputs": [],
   "source": [
    "r = Binarytree('a')"
   ]
  },
  {
   "cell_type": "code",
   "execution_count": 22,
   "metadata": {},
   "outputs": [
    {
     "data": {
      "text/plain": [
       "'a'"
      ]
     },
     "execution_count": 22,
     "metadata": {},
     "output_type": "execute_result"
    }
   ],
   "source": [
    "r.getrootval()"
   ]
  },
  {
   "cell_type": "code",
   "execution_count": 23,
   "metadata": {},
   "outputs": [],
   "source": [
    "r.insertLeft('b')"
   ]
  },
  {
   "cell_type": "code",
   "execution_count": null,
   "metadata": {},
   "outputs": [],
   "source": []
  },
  {
   "cell_type": "code",
   "execution_count": null,
   "metadata": {},
   "outputs": [],
   "source": []
  }
 ],
 "metadata": {
  "kernelspec": {
   "display_name": "Python 3",
   "language": "python",
   "name": "python3"
  },
  "language_info": {
   "codemirror_mode": {
    "name": "ipython",
    "version": 3
   },
   "file_extension": ".py",
   "mimetype": "text/x-python",
   "name": "python",
   "nbconvert_exporter": "python",
   "pygments_lexer": "ipython3",
   "version": "3.8.5"
  }
 },
 "nbformat": 4,
 "nbformat_minor": 4
}
