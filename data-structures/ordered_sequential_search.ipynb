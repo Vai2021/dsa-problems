{
 "cells": [
  {
   "cell_type": "code",
   "execution_count": 1,
   "metadata": {},
   "outputs": [],
   "source": [
    "def ordered_seqsearch(arr,ele):\n",
    "    \n",
    "    found = False\n",
    "    stopped = False\n",
    "    pos = 0\n",
    "    \n",
    "    \n",
    "    \n",
    "    while pos<len(arr) and not found and not stopped:\n",
    "        \n",
    "        if arr[pos]== ele:\n",
    "            found = True\n",
    "            \n",
    "            \n",
    "        else:\n",
    "            \n",
    "            if arr[pos]>ele:\n",
    "                \n",
    "                stopped = True\n",
    "                \n",
    "            else:\n",
    "                pos += 1\n",
    "                \n",
    "                \n",
    "    return found\n",
    "            "
   ]
  },
  {
   "cell_type": "code",
   "execution_count": 2,
   "metadata": {},
   "outputs": [
    {
     "data": {
      "text/plain": [
       "True"
      ]
     },
     "execution_count": 2,
     "metadata": {},
     "output_type": "execute_result"
    }
   ],
   "source": [
    "arr = [10,20,30,40,45,50,60,70]\n",
    "\n",
    "ordered_seqsearch(arr,30)\n",
    "\n"
   ]
  },
  {
   "cell_type": "code",
   "execution_count": 3,
   "metadata": {},
   "outputs": [
    {
     "data": {
      "text/plain": [
       "False"
      ]
     },
     "execution_count": 3,
     "metadata": {},
     "output_type": "execute_result"
    }
   ],
   "source": [
    "ordered_seqsearch(arr,43)"
   ]
  },
  {
   "cell_type": "code",
   "execution_count": null,
   "metadata": {},
   "outputs": [],
   "source": []
  }
 ],
 "metadata": {
  "kernelspec": {
   "display_name": "Python 3",
   "language": "python",
   "name": "python3"
  },
  "language_info": {
   "codemirror_mode": {
    "name": "ipython",
    "version": 3
   },
   "file_extension": ".py",
   "mimetype": "text/x-python",
   "name": "python",
   "nbconvert_exporter": "python",
   "pygments_lexer": "ipython3",
   "version": "3.8.5"
  }
 },
 "nbformat": 4,
 "nbformat_minor": 4
}
